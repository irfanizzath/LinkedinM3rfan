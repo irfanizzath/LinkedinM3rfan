{
 "cells": [
  {
   "cell_type": "markdown",
   "id": "95c69148",
   "metadata": {},
   "source": [
    " # Python code to print the Flag of the United Arab Emirates"
   ]
  },
  {
   "cell_type": "markdown",
   "id": "4c627718",
   "metadata": {},
   "source": [
    "### By Mohamed Irfan\n",
    "https://www.linkedin.com/in/mohamed-irfan-430531236/"
   ]
  },
  {
   "cell_type": "code",
   "execution_count": 2,
   "id": "c1f35d53",
   "metadata": {},
   "outputs": [
    {
     "name": "stdout",
     "output_type": "stream",
     "text": [
      "\n",
      "\u001b[31m\u001b[1m\t\t\t UAE UAE UAE \u001b[32m\u001b[1mUAE \u001b[32m\u001b[1mUAE \u001b[32m\u001b[1mUAE \u001b[32m\u001b[1mUAE \u001b[32m\u001b[1mUAE \u001b[32m\u001b[1mUAE \u001b[32m\u001b[1mUAE \u001b[32m\u001b[1mUAE \u001b[32m\u001b[1mUAE \n",
      "\u001b[31m\u001b[1m\t\t\t UAE UAE UAE \u001b[32m\u001b[1mUAE \u001b[32m\u001b[1mUAE \u001b[32m\u001b[1mUAE \u001b[32m\u001b[1mUAE \u001b[32m\u001b[1mUAE \u001b[32m\u001b[1mUAE \u001b[32m\u001b[1mUAE \u001b[32m\u001b[1mUAE \u001b[32m\u001b[1mUAE \n",
      "\u001b[31m\u001b[1m\t\t\t UAE UAE UAE \u001b[32m\u001b[1mUAE \u001b[32m\u001b[1mUAE \u001b[32m\u001b[1mUAE \u001b[32m\u001b[1mUAE \u001b[32m\u001b[1mUAE \u001b[32m\u001b[1mUAE \u001b[32m\u001b[1mUAE \u001b[32m\u001b[1mUAE \u001b[32m\u001b[1mUAE \n",
      "\u001b[31m\u001b[1m\t\t\t UAE UAE UAE \u001b[37m\u001b[1mUAE \u001b[37m\u001b[1mUAE \u001b[37m\u001b[1mUAE \u001b[37m\u001b[1mUAE \u001b[37m\u001b[1mUAE \u001b[37m\u001b[1mUAE \u001b[37m\u001b[1mUAE \u001b[37m\u001b[1mUAE \u001b[37m\u001b[1mUAE \n",
      "\u001b[31m\u001b[1m\t\t\t UAE UAE UAE \u001b[37m\u001b[1mUAE \u001b[37m\u001b[1mUAE \u001b[37m\u001b[1mUAE \u001b[37m\u001b[1mUAE \u001b[37m\u001b[1mUAE \u001b[37m\u001b[1mUAE \u001b[37m\u001b[1mUAE \u001b[37m\u001b[1mUAE \u001b[37m\u001b[1mUAE \n",
      "\u001b[31m\u001b[1m\t\t\t UAE UAE UAE \u001b[37m\u001b[1mUAE \u001b[37m\u001b[1mUAE \u001b[37m\u001b[1mUAE \u001b[37m\u001b[1mUAE \u001b[37m\u001b[1mUAE \u001b[37m\u001b[1mUAE \u001b[37m\u001b[1mUAE \u001b[37m\u001b[1mUAE \u001b[37m\u001b[1mUAE \n",
      "\u001b[31m\u001b[1m\t\t\t UAE UAE UAE \u001b[30m\u001b[1mUAE \u001b[30m\u001b[1mUAE \u001b[30m\u001b[1mUAE \u001b[30m\u001b[1mUAE \u001b[30m\u001b[1mUAE \u001b[30m\u001b[1mUAE \u001b[30m\u001b[1mUAE \u001b[30m\u001b[1mUAE \u001b[30m\u001b[1mUAE \n",
      "\u001b[31m\u001b[1m\t\t\t UAE UAE UAE \u001b[30m\u001b[1mUAE \u001b[30m\u001b[1mUAE \u001b[30m\u001b[1mUAE \u001b[30m\u001b[1mUAE \u001b[30m\u001b[1mUAE \u001b[30m\u001b[1mUAE \u001b[30m\u001b[1mUAE \u001b[30m\u001b[1mUAE \u001b[30m\u001b[1mUAE \n",
      "\u001b[31m\u001b[1m\t\t\t UAE UAE UAE \u001b[30m\u001b[1mUAE \u001b[30m\u001b[1mUAE \u001b[30m\u001b[1mUAE \u001b[30m\u001b[1mUAE \u001b[30m\u001b[1mUAE \u001b[30m\u001b[1mUAE \u001b[30m\u001b[1mUAE \u001b[30m\u001b[1mUAE \u001b[30m\u001b[1mUAE \n"
     ]
    }
   ],
   "source": [
    "import colorama\n",
    "from colorama import Fore, Back, Style \n",
    "l,b,y=9,9,1\n",
    "s,s1='UAE', 'UAE '\n",
    "print() \n",
    "while y<=b:\n",
    "    x=1\n",
    "    print(Fore.RED+Style.BRIGHT+\"\\t\\t\\t\",s1*3, end='')\n",
    "    while x<=l:\n",
    "        if y<=3:\n",
    "            print(Fore.GREEN+Style.BRIGHT+s, end=' ') \n",
    "        if y>3 and y<=6:\n",
    "            print(Fore.WHITE+Style.BRIGHT+s, end=' ')\n",
    "        if y>6: \n",
    "            print(Fore.BLACK+Style.BRIGHT+s, end=' ')\n",
    "        x+=1\n",
    "    print()\n",
    "    y+=1"
   ]
  },
  {
   "cell_type": "code",
   "execution_count": null,
   "id": "7e352464",
   "metadata": {},
   "outputs": [],
   "source": []
  }
 ],
 "metadata": {
  "kernelspec": {
   "display_name": "Python 3 (ipykernel)",
   "language": "python",
   "name": "python3"
  },
  "language_info": {
   "codemirror_mode": {
    "name": "ipython",
    "version": 3
   },
   "file_extension": ".py",
   "mimetype": "text/x-python",
   "name": "python",
   "nbconvert_exporter": "python",
   "pygments_lexer": "ipython3",
   "version": "3.9.7"
  }
 },
 "nbformat": 4,
 "nbformat_minor": 5
}
